{
 "cells": [
  {
   "cell_type": "markdown",
   "id": "ffc1257b",
   "metadata": {},
   "source": [
    "# jupyter test"
   ]
  },
  {
   "cell_type": "code",
   "execution_count": 7,
   "id": "72fe79f1",
   "metadata": {},
   "outputs": [],
   "source": [
    "import requests\n",
    "import random\n",
    "from pymongo import MongoClient"
   ]
  },
  {
   "cell_type": "code",
   "execution_count": 8,
   "id": "3d6026df",
   "metadata": {},
   "outputs": [
    {
     "data": {
      "text/plain": [
       "200"
      ]
     },
     "execution_count": 8,
     "metadata": {},
     "output_type": "execute_result"
    }
   ],
   "source": [
    "response = requests.get(\"https://www.naver.com/\")\n",
    "response.status_code"
   ]
  },
  {
   "cell_type": "code",
   "execution_count": 9,
   "id": "8c37dde7",
   "metadata": {},
   "outputs": [
    {
     "data": {
      "text/plain": [
       "'\\n<!doctype html>                          <html lang=\"ko\" data-dark=\"false\"> <head> <meta charset=\"utf-8\"> <title>NAVER</title> <meta http-equiv=\"X-UA-Compatible\" content=\"IE=edge\"> <meta name=\"viewport\" content=\"width=1190\"> <meta name=\"apple-mobile-web-app-title\" content=\"NAVER\"/> <meta name=\"robo'"
      ]
     },
     "execution_count": 9,
     "metadata": {},
     "output_type": "execute_result"
    }
   ],
   "source": [
    "response.text[:300]"
   ]
  },
  {
   "cell_type": "markdown",
   "id": "de8a5155",
   "metadata": {},
   "source": [
    "# Connect MongoDB"
   ]
  },
  {
   "cell_type": "code",
   "execution_count": 10,
   "id": "6437aebc",
   "metadata": {},
   "outputs": [],
   "source": [
    "# DB config\n",
   ]
  },
  {
   "cell_type": "code",
   "execution_count": 11,
   "id": "b933bebe",
   "metadata": {},
   "outputs": [],
   "source": [
    "#uri 접속\n",
    "client = MongoClient(mongo_uri)"
   ]
  },
  {
   "cell_type": "code",
   "execution_count": 12,
   "id": "6c4a3def",
   "metadata": {},
   "outputs": [
    {
     "data": {
      "text/plain": [
       "[]"
      ]
     },
     "execution_count": 12,
     "metadata": {},
     "output_type": "execute_result"
    }
   ],
   "source": [
    "#collection 조회\n",
    "client.cluster0.list_collection_names()"
   ]
  },
  {
   "cell_type": "code",
   "execution_count": 14,
   "id": "9de00da7",
   "metadata": {},
   "outputs": [],
   "source": [
    "#간편하게 사용하기위해 변수에 저장\n",
    "db = client.cluster0"
   ]
  },
  {
   "cell_type": "code",
   "execution_count": 15,
   "id": "d5b8a658",
   "metadata": {},
   "outputs": [],
   "source": [
    "user_collection = db[\"users\"]"
   ]
  },
  {
   "cell_type": "markdown",
   "id": "f89324ae",
   "metadata": {},
   "source": [
    "## insert"
   ]
  },
  {
   "cell_type": "code",
   "execution_count": 16,
   "id": "d896cc51",
   "metadata": {},
   "outputs": [
    {
     "data": {
      "text/plain": [
       "<pymongo.results.InsertOneResult at 0x70f1f88>"
      ]
     },
     "execution_count": 16,
     "metadata": {},
     "output_type": "execute_result"
    }
   ],
   "source": [
    "user1 = {\n",
    "    \"name\" : \"Carry\",\n",
    "    \"email\": \"temp@temp.mail\"\n",
    "}\n",
    "\n",
    "#user1 객체를 users 컬렉션에 추가\n",
    "user_collection.insert_one(user1)"
   ]
  },
  {
   "cell_type": "code",
   "execution_count": 17,
   "id": "5b924b43",
   "metadata": {},
   "outputs": [
    {
     "data": {
      "text/plain": [
       "<pymongo.results.InsertManyResult at 0x5f29928>"
      ]
     },
     "execution_count": 17,
     "metadata": {},
     "output_type": "execute_result"
    }
   ],
   "source": [
    "# 미리 정의된 데이터 - 리스트 형태\n",
    "many_users =[ #사전으로 구성된 리스트\n",
    "    {\n",
    "    \"name\" : \"Jhon\",\n",
    "    \"email\": \"temp@temp.mail\"\n",
    "    },\n",
    "    {\n",
    "    \"name\" : \"Jim\",\n",
    "    \"email\": \"temp@temp.mail\"\n",
    "    },\n",
    "    {\n",
    "    \"name\" : \"Carl\",\n",
    "    \"email\": \"temp@temp.mail\"\n",
    "    },  \n",
    "]\n",
    "\n",
    "#여러 개의 데이터를 한번에 추가\n",
    "user_collection.insert_many(many_users)"
   ]
  },
  {
   "cell_type": "code",
   "execution_count": 18,
   "id": "2712e52d",
   "metadata": {},
   "outputs": [
    {
     "data": {
      "text/plain": [
       "[{'_id': ObjectId('6139bacc74d58f755fd39b65'),\n",
       "  'name': 'Carry',\n",
       "  'email': 'temp@temp.mail'},\n",
       " {'_id': ObjectId('6139bb9c74d58f755fd39b66'),\n",
       "  'name': 'Jhon',\n",
       "  'email': 'temp@temp.mail'},\n",
       " {'_id': ObjectId('6139bb9c74d58f755fd39b67'),\n",
       "  'name': 'Jim',\n",
       "  'email': 'temp@temp.mail'},\n",
       " {'_id': ObjectId('6139bb9c74d58f755fd39b68'),\n",
       "  'name': 'Carl',\n",
       "  'email': 'temp@temp.mail'}]"
      ]
     },
     "execution_count": 18,
     "metadata": {},
     "output_type": "execute_result"
    }
   ],
   "source": [
    "# 쿼리의 경우 :  SELECT * FROM users;\n",
    "\n",
    "query = {} #모든 데이터 가져온다는 의미\n",
    "\n",
    "# Cursor 리턴\n",
    "user_collection.find(query)\n",
    "\n",
    "#Cursor 내부 구성 확인\n",
    "list(user_collection.find(query))"
   ]
  },
  {
   "cell_type": "code",
   "execution_count": 20,
   "id": "2081b4cf",
   "metadata": {},
   "outputs": [
    {
     "data": {
      "text/plain": [
       "[{'name': 'Carry'}, {'name': 'Jhon'}, {'name': 'Jim'}, {'name': 'Carl'}]"
      ]
     },
     "execution_count": 20,
     "metadata": {},
     "output_type": "execute_result"
    }
   ],
   "source": [
    "#원하는 요소만 조회 가능\n",
    "list(user_collection.find(query, {\"_id\" :0, \"email\":0,})) #1이 기본값, 0은 제외의 의미"
   ]
  },
  {
   "cell_type": "code",
   "execution_count": 21,
   "id": "abc5eb4d",
   "metadata": {},
   "outputs": [
    {
     "data": {
      "text/plain": [
       "[{'name': 'Carry', 'email': 'temp@temp.mail'},\n",
       " {'name': 'Jhon', 'email': 'temp@temp.mail'},\n",
       " {'name': 'Jim', 'email': 'temp@temp.mail'},\n",
       " {'name': 'Carl', 'email': 'temp@temp.mail'},\n",
       " {'name': 'jimi', 'email': 'temp@temp.mail', 'locale': 'New York, US'}]"
      ]
     },
     "execution_count": 21,
     "metadata": {},
     "output_type": "execute_result"
    }
   ],
   "source": [
    "# 기존에 없던 locale 항목 추가 가능\n",
    "user2 = {\n",
    "    \"name\" : \"jimi\",\n",
    "    \"email\": \"temp@temp.mail\",\n",
    "    \"locale\" : \"New York, US\",\n",
    "}\n",
    "\n",
    "user_collection.insert_one(user2)\n",
    "\n",
    "list(user_collection.find(query, {\"_id\" :0,}))"
   ]
  },
  {
   "cell_type": "code",
   "execution_count": 26,
   "id": "1b9b0b6e",
   "metadata": {},
   "outputs": [
    {
     "data": {
      "text/plain": [
       "[('temp', 'Carry'),\n",
       " ('temp', 'Jhon'),\n",
       " ('temp', 'Jim'),\n",
       " ('temp', 'Carl'),\n",
       " ('temp', 'jimi')]"
      ]
     },
     "execution_count": 26,
     "metadata": {},
     "output_type": "execute_result"
    }
   ],
   "source": [
    "#리스트 표현식과 mongoDB의 기능을 같이 사용 가능하다\n",
    "\n",
    "[(item[\"email\"][:-10], item[\"name\"]) for item in user_collection.find({},{\"_id\" :0})]"
   ]
  },
  {
   "cell_type": "markdown",
   "id": "4280fe24",
   "metadata": {},
   "source": [
    "## find"
   ]
  },
  {
   "cell_type": "code",
   "execution_count": 27,
   "id": "d2e98dc4",
   "metadata": {},
   "outputs": [
    {
     "data": {
      "text/plain": [
       "{'_id': ObjectId('6139bacc74d58f755fd39b65'),\n",
       " 'name': 'Carry',\n",
       " 'email': 'temp@temp.mail'}"
      ]
     },
     "execution_count": 27,
     "metadata": {},
     "output_type": "execute_result"
    }
   ],
   "source": [
    "# SELECT * FROM users;\n",
    "\n",
    "query={}\n",
    "\n",
    "user_collection.find_one(user1) # 첫번째 요소를 조회"
   ]
  },
  {
   "cell_type": "code",
   "execution_count": 28,
   "id": "4d53cca7",
   "metadata": {},
   "outputs": [
    {
     "data": {
      "text/plain": [
       "[{'name': 'Carry', 'email': 'temp@temp.mail'}]"
      ]
     },
     "execution_count": 28,
     "metadata": {},
     "output_type": "execute_result"
    }
   ],
   "source": [
    "# 조건에 따른 조회\n",
    "query={'name': 'Carry'}\n",
    "\n",
    "list(user_collection.find(query, {\"_id\" :0,}))"
   ]
  },
  {
   "cell_type": "code",
   "execution_count": 31,
   "id": "de07c338",
   "metadata": {},
   "outputs": [
    {
     "data": {
      "text/plain": [
       "[{'name': 'Carry', 'email': 'temp@temp.mail'},\n",
       " {'name': 'Carl', 'email': 'temp@temp.mail'}]"
      ]
     },
     "execution_count": 31,
     "metadata": {},
     "output_type": "execute_result"
    }
   ],
   "source": [
    "#정규식\n",
    "\n",
    "#aggregation - 추가 연산자를 사용하기위해 괄호를 열어줍니다\n",
    "query={\"name\":{\"$regex\":\"^C\"}} #c로 시작하는 요소를 선택하는 정규힉과 같이 사용\n",
    "list(user_collection.find(query, {\"_id\" :0,}))"
   ]
  },
  {
   "cell_type": "markdown",
   "id": "c4ac49b2",
   "metadata": {},
   "source": [
    "## update"
   ]
  },
  {
   "cell_type": "code",
   "execution_count": 33,
   "id": "79a6b9f0",
   "metadata": {},
   "outputs": [],
   "source": [
    "#임의 나의 생성기\n",
    "\n",
    "def set_age():\n",
    "    return random.randint(19,50)"
   ]
  },
  {
   "cell_type": "code",
   "execution_count": 34,
   "id": "868cc50c",
   "metadata": {},
   "outputs": [
    {
     "data": {
      "text/plain": [
       "{'_id': ObjectId('6139bacc74d58f755fd39b65'),\n",
       " 'name': 'Carry',\n",
       " 'email': 'temp@temp.mail',\n",
       " 'age': 50}"
      ]
     },
     "execution_count": 34,
     "metadata": {},
     "output_type": "execute_result"
    }
   ],
   "source": [
    "query={'name': 'Carry'}\n",
    "new_val ={\"$set\":{\"age\":set_age()}} #나이 생성\n",
    "\n",
    "user_collection.update_one(query,new_val) #값 update\n",
    "user_collection.find_one(query)"
   ]
  },
  {
   "cell_type": "code",
   "execution_count": 43,
   "id": "c43dcf04",
   "metadata": {},
   "outputs": [
    {
     "data": {
      "text/plain": [
       "[{'name': 'Carry', 'email': 'temp@temp.mail', 'age': 41},\n",
       " {'name': 'Jhon', 'email': 'temp@temp.mail', 'age': 47},\n",
       " {'name': 'Jim', 'email': 'temp@temp.mail', 'age': 46},\n",
       " {'name': 'Carl', 'email': 'temp@temp.mail', 'age': 31},\n",
       " {'name': 'jimi',\n",
       "  'email': 'temp@temp.mail',\n",
       "  'locale': 'New York, US',\n",
       "  'age': 38}]"
      ]
     },
     "execution_count": 43,
     "metadata": {},
     "output_type": "execute_result"
    }
   ],
   "source": [
    "\"\"\"\n",
    "mongoDB의 데이터 형식이 비교적 자유롭다고 해도 어느정도의 통일성은 필요하다\n",
    "\"\"\"\n",
    "\n",
    "#모든 객체에 나이 항목 update\n",
    "for user in user_collection.find({},{\"_id\":0}):\n",
    "    new_val ={\"$set\":{\"age\":set_age()}}\n",
    "    query={'name': user[\"name\"]}\n",
    "    \n",
    "    user_collection.update_one(query,new_val)\n",
    "    \n",
    "list(user_collection.find({},{\"_id\":0}))"
   ]
  },
  {
   "cell_type": "code",
   "execution_count": 46,
   "id": "5427a221",
   "metadata": {},
   "outputs": [
    {
     "data": {
      "text/plain": [
       "[{'name': 'Carl', 'email': 'temp@temp.mail', 'age': 31},\n",
       " {'name': 'jimi',\n",
       "  'email': 'temp@temp.mail',\n",
       "  'locale': 'New York, US',\n",
       "  'age': 38}]"
      ]
     },
     "execution_count": 46,
     "metadata": {},
     "output_type": "execute_result"
    }
   ],
   "source": [
    "query={\"age\":{\"$lt\":40}} #정규식으로 35이하의 나이인 대상 선택\n",
    "list(user_collection.find(query,{\"_id\":0}))"
   ]
  },
  {
   "cell_type": "code",
   "execution_count": 48,
   "id": "9777133d",
   "metadata": {},
   "outputs": [
    {
     "data": {
      "text/plain": [
       "[{'name': 'jimi',\n",
       "  'email': 'temp@temp.mail',\n",
       "  'locale': 'New York, US',\n",
       "  'age': 38},\n",
       " {'name': 'Carl', 'email': 'temp@temp.mail', 'age': 31}]"
      ]
     },
     "execution_count": 48,
     "metadata": {},
     "output_type": "execute_result"
    }
   ],
   "source": [
    "#조회한 결과를 정렬할 수 도 있다\n",
    "query={\"age\":{\"$lt\":40}}\n",
    "list(user_collection.find(query,{\"_id\":0}).sort(\"age\",-1)) #-1:내림차순, 1:오름차순"
   ]
  },
  {
   "cell_type": "code",
   "execution_count": null,
   "id": "ed1d4ec7",
   "metadata": {},
   "outputs": [],
   "source": [
    "'''\n",
    "사용자가 데이터를 삭제하더라도 보관해야한다 \n",
    "\n",
    "hot 저장소에서 cold 저장소(별도의 저장소)로 옮겨 보관해야한다\n",
    "\n",
    "복구하기는 매우 어렵다\n",
    "'''"
   ]
  },
  {
   "cell_type": "code",
   "execution_count": null,
   "id": "def0182e",
   "metadata": {},
   "outputs": [],
   "source": [
    "'''\n",
    "안정적인 서비스를 위해서는 관계형 DB - 표형식을 사용하지만\n",
    "\n",
    "nosql도 많이 사용한다\n",
    "'''"
   ]
  }
 ],
 "metadata": {
  "kernelspec": {
   "display_name": "Python 3 (ipykernel)",
   "language": "python",
   "name": "python3"
  },
  "language_info": {
   "codemirror_mode": {
    "name": "ipython",
    "version": 3
   },
   "file_extension": ".py",
   "mimetype": "text/x-python",
   "name": "python",
   "nbconvert_exporter": "python",
   "pygments_lexer": "ipython3",
   "version": "3.8.5"
  }
 },
 "nbformat": 4,
 "nbformat_minor": 5
}
