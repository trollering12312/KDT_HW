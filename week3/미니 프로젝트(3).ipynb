{
 "cells": [
  {
   "cell_type": "markdown",
   "source": [
    "(1) 프로젝트 명 : 네이버 뉴스 자동 수집 후 메일 발송기 \n",
    " \n",
    "(2) 프로젝트 설명(200자 이내) :\n",
    " 특정 키워드에 해당하는 뉴스 기사를 네이버에서 찾아\n",
    " 기사 제목, 링크를 엑셀 파일로 만들어\n",
    " 미리 만들어둔 엑셀 파일에 있는 메일링 대상자에게 메일로 전달합니다.\n",
    " \n",
    "(3) 프로젝트 과제 상세 :\n",
    " - 사용자가 원하는 키워드 입력받기\n",
    " - 네이버 뉴스를 수집해 주는 모듈을 이용해서 해당 키워드 뉴스 수집 후 엑셀 파일에 제목, 링크, 요약문 기록하기\n",
    " - 수집 데이터 엑셀 파일을 메일링 대상자 엑셀 파일을 읽어 대상자들에게 메일 보내기\n",
    " \n",
    "(4) 점검 및 합격 기준표 :\n",
    " - 해당 파트를 수강하면서 사용한 문법과 기능을 활용할 수 있어야 합니다.\n",
    " - 전체적인 업무의 흐름을 이해하고 작성하여야 합니다.\n",
    " - 각 단계마다 주어진 과제 코드를 완성하여야 합니다.\n"
   ],
   "metadata": {}
  },
  {
   "cell_type": "markdown",
   "source": [
    "#### 아래 코드를 실행해서 NaverNewsCrawler 모듈을 임포트하세요."
   ],
   "metadata": {}
  },
  {
   "cell_type": "code",
   "execution_count": 9,
   "source": [
    "# 크롤러 코드를 위한 모듈 설치\n",
    "!pip install requests\n",
    "!pip install beautifulsoup4\n",
    "\n",
    "#openpyxl 설치\n",
    "!pip install openpyxl "
   ],
   "outputs": [
    {
     "output_type": "stream",
     "name": "stdout",
     "text": [
      "Requirement already satisfied: requests in c:\\python38\\lib\\site-packages (2.26.0)\n",
      "Requirement already satisfied: charset-normalizer~=2.0.0 in c:\\python38\\lib\\site-packages (from requests) (2.0.4)\n",
      "Requirement already satisfied: certifi>=2017.4.17 in c:\\python38\\lib\\site-packages (from requests) (2021.5.30)\n",
      "Requirement already satisfied: idna<4,>=2.5 in c:\\python38\\lib\\site-packages (from requests) (3.2)\n",
      "Requirement already satisfied: urllib3<1.27,>=1.21.1 in c:\\python38\\lib\\site-packages (from requests) (1.26.6)\n",
      "Requirement already satisfied: beautifulsoup4 in c:\\python38\\lib\\site-packages (4.9.3)\n",
      "Requirement already satisfied: soupsieve>1.2 in c:\\python38\\lib\\site-packages (from beautifulsoup4) (2.2.1)\n",
      "Requirement already satisfied: openpyxl in c:\\python38\\lib\\site-packages (3.0.7)\n",
      "Requirement already satisfied: et-xmlfile in c:\\python38\\lib\\site-packages (from openpyxl) (1.1.0)\n"
     ]
    }
   ],
   "metadata": {}
  },
  {
   "cell_type": "code",
   "execution_count": 10,
   "source": [
    "from NaverNewsCrawler import NaverNewsCrawler"
   ],
   "outputs": [],
   "metadata": {}
  },
  {
   "cell_type": "code",
   "execution_count": null,
   "source": [],
   "outputs": [],
   "metadata": {}
  },
  {
   "cell_type": "markdown",
   "source": [
    "#### 사용자로 부터 기사 수집을 원하는 키워드를 input을 이용해 입력받아 ? 부분에 넣으세요"
   ],
   "metadata": {}
  },
  {
   "cell_type": "code",
   "execution_count": 11,
   "source": [
    "keyword = input(\"원하는 키워드를 입력하세요 : \")"
   ],
   "outputs": [
    {
     "output_type": "stream",
     "name": "stdout",
     "text": [
      "원하는 키워드를 입력하세요 : 올림픽\n"
     ]
    }
   ],
   "metadata": {}
  },
  {
   "cell_type": "code",
   "execution_count": 12,
   "source": [
    "crawler = NaverNewsCrawler(keyword)"
   ],
   "outputs": [],
   "metadata": {}
  },
  {
   "cell_type": "code",
   "execution_count": null,
   "source": [],
   "outputs": [],
   "metadata": {}
  },
  {
   "cell_type": "markdown",
   "source": [
    "#### 수집한 데이터를 저장할 엑셀 파일명을 input을 이용해 입력받아 ? 부분에 넣으세요"
   ],
   "metadata": {}
  },
  {
   "cell_type": "code",
   "execution_count": 14,
   "source": [
    "file_name = input(\"저장할 엑셀 파일명을 입력하세요(확장자 제외) : \")\r\n",
    "file_name += \".xlsx\""
   ],
   "outputs": [
    {
     "output_type": "stream",
     "name": "stdout",
     "text": [
      "저장할 엑셀 파일명을 입력하세요(확장자 제외) : news\n"
     ]
    }
   ],
   "metadata": {}
  },
  {
   "cell_type": "code",
   "execution_count": 15,
   "source": [
    "crawler.get_news(file_name)"
   ],
   "outputs": [
    {
     "output_type": "stream",
     "name": "stdout",
     "text": [
      "올림픽에 대한 기사 수집 시작\n",
      "1 -올림픽- 고진영, 2R 6타차 6위…한국 여자골프 2연패 '가물가물' http://yna.kr/AKR20210805124500007?did=1195m   도쿄올림픽 골프 여자부 2라운드까지 선두에 6타 뒤진 공동 6위에 올랐다. 고진영은 5일 일본 사이타마현 가와고에시의 가스미가세키 컨트리클럽(파71·6천648야드)에서 열린 2020 도쿄올림픽 골프 여자부 2라운드에서... \n",
      "2 카누 조광희, 13위로 올림픽 마무리 http://www.ohmynews.com/NWS_Web/View/at_pg.aspx?CNTN_CD=A0002764457&CMPT_CD=P0010&utm_source=naver&utm_medium=newsearch&utm_campaign=naver_news   유종의 미 거둬 ▲ [올림픽] ‘조광희, 이 악물고’ 5일 일본 우미노모리 수상경기장에서 열린 도쿄올림픽 남자 카약 1인승 200m 준결승 경기에 한국 조광희가 출전하고 있다. ⓒ 연합뉴스 '카누 간판' 조광희 선수가 도쿄... \n",
      "3 [올림픽] 무너진 방역…\"선수촌 날마다 술판, 밤엔 무법지대\" http://yna.kr/AKR20210805086800073?did=1195m   대회관계자 규정 어기고 외식·쇼핑…\"버블방역은 거짓말\" 올림픽 관련 확진자 353명…그리스 수영팀 집단감염 6명 이세원 특파원 = 신종 코로나바이러스 감염증(코로나19) 확산을 막도록 도쿄올림픽을 위해 입국한 선수 등... \n",
      "4 [단독] 올림픽 스타 안창림·조구함, '맛있는 녀석들' 뜬다 https://hankookilbo.com/News/Read/A2021080511250000930?did=NA   올림픽 스타 안창림과 조구함이 '맛있는 녀석들'에 뜬다. 5일 본지 취재 결과 이날 유도 국가대표 선수... 제작진은 올림픽 경기에서 큰 인기를 끈 두 사람을 발 빠르게 섭외한 것으로 보인다. 두 유도 스타의 먹방을 담은... \n",
      "5 [올림픽] '막내' 이의리, 미국전 5이닝 2실점 9K…몫 해냈다 https://www.news1.kr/articles/?4395351   이의리는 5일 일본 가나가와현 요코하마 스타디움에서 열린 2020 도쿄 올림픽 야구 준결승 미국과의 경기에 선발 등판, 5이닝 5피안타(1피홈런) 2볼넷 9탈삼진 2실점을 기록했다. 지난 1일 도미니카공화국전에 등판했던... \n",
      "6 IOC \"내년 2월 베이징 동계올림픽도 무관중 개최할 수도\" http://www.newsis.com/view/?id=NISX20210805_0001539336&cID=10101&pID=10100   내년 2월 열리는 베이징 동계올림픽도 무관중으로 치를 가능성이 있다고 국제올림픽위원회(IOC) 크리스토퍼 두비 수석국장이 5일 밝혔다. 신랑망(新浪網) 등에 따르면 올림픽 대회의 진행을 실무적으로 책임지는 두비... \n",
      "7 [영상] 日선수 금메달 멋대로 깨문 시장···\"선수 존중 결여\" 비판 [도쿄 올... https://www.sedaily.com/NewsView/22Q2K3EOP6   일본의 한 지방자치단체장이 지역 출신 선수가 도쿄올림픽에서 받은 금메달을 멋대로 깨물어 비판을 받았다. 가와무라 다카시(河村隆之) 일본 나고야(名古屋) 시장은 도쿄올림픽 소프트볼에 출전해 금메달을 딴 나고야... \n",
      "8 [도쿄올림픽]'수영 희망' 황선우, 연맹 포상금 천만원 받는다 http://starin.edaily.co.kr/news/newspath.asp?newsid=01308726629144368   도쿄올림픽에서 남자 자유형 100ｍ 아시아신기록을 세운 ‘한국 수영의 희망’ 황선우(18·서울체고)가 대한수영연맹 포상금 1000만원을 받는다. 대한수영연맹은 5일 “2020 도쿄올림픽에서 남자 자유형 100m 아시아... \n",
      "9 -올림픽- 미국 육상 남자 400ｍ계주팀 예선 탈락…칼루이스, 강하게 질책 http://yna.kr/AKR20210805108100007?did=1195m   올림픽에서 금메달 9개를 딴 '미국 육상의 전설' 칼 루이스(60)는 미국 대표팀의 준비 부족을 강하게 질책했다. 미국 남자 400ｍ 계주팀은 5일 일본 도쿄 올림픽 주경기장에서 열린 2020 도쿄올림픽 육상 남자 400ｍ 계주... \n",
      "10 -올림픽- 한국야구, 미국에 2-7 완패…도미니카共과 3·4위전 http://yna.kr/AKR20210805162200007?did=1195m   특별취재단 = 한국 야구의 올림픽 2회 연속 우승 꿈이 지독한 타선의 침묵 속에 물거품이 됐다. 한국 야구대표팀은 5일 일본 가나가와현 요코하마 스타디움에서 열린 2020 도쿄올림픽 야구 패자 준결승전에서 미국에 2... \n",
      "news.xlsx에 데이터 저장 완료\n",
      "올림픽에 대한 기사 수집 완료\n"
     ]
    }
   ],
   "metadata": {}
  },
  {
   "cell_type": "code",
   "execution_count": null,
   "source": [],
   "outputs": [],
   "metadata": {}
  },
  {
   "cell_type": "markdown",
   "source": [
    "#### 아래코드를 실행해 이메일 발송 기능에 필요한 모듈을 임포트하세요."
   ],
   "metadata": {}
  },
  {
   "cell_type": "code",
   "execution_count": 16,
   "source": [
    "from email.mime.text import MIMEText\r\n",
    "from email.mime.multipart import MIMEMultipart\r\n",
    "import smtplib\r\n",
    "import re"
   ],
   "outputs": [],
   "metadata": {}
  },
  {
   "cell_type": "code",
   "execution_count": null,
   "source": [],
   "outputs": [],
   "metadata": {}
  },
  {
   "cell_type": "markdown",
   "source": [
    "#### gmail 발송 기능에 필요한 계정 정보를 아래 코드에 입력하세요."
   ],
   "metadata": {}
  },
  {
   "cell_type": "code",
   "execution_count": 30,
   "source": [
    "SMTP_SERVER = 'smtp.gmail.com'\r\n",
    "SMTP_PORT = 465\r\n",
    "SMTP_USER = 'trollering12312@gmail.com'\r\n",
    "SMTP_PASSWORD = ''"
   ],
   "outputs": [],
   "metadata": {}
  },
  {
   "cell_type": "code",
   "execution_count": null,
   "source": [],
   "outputs": [],
   "metadata": {}
  },
  {
   "cell_type": "markdown",
   "source": [
    "#### 아래 코드를 실행해 메일 발송에 필요한 send_mail 함수를 만드세요."
   ],
   "metadata": {}
  },
  {
   "cell_type": "code",
   "execution_count": 18,
   "source": [
    "#강의 코드와 동일\r\n",
    "def send_mail(name, addr, subject, contents, attachment=None):\r\n",
    "    if not re.match('(^[a-zA-Z0-9_.-]+@[a-zA-Z0-9-]+\\.[a-zA-Z0-9-.]+$)', addr):\r\n",
    "        print('이메일 양식이 올바르지 않습니다 = '+addr)\r\n",
    "        return\r\n",
    "\r\n",
    "    msg = MIMEMultipart('alternative')\r\n",
    "    if attachment:\r\n",
    "        msg = MIMEMultipart('mixed')\r\n",
    "\r\n",
    "    msg['From'] = SMTP_USER\r\n",
    "    msg['To'] = addr\r\n",
    "    msg['Subject'] = name + '님, ' + subject\r\n",
    "\r\n",
    "    text = MIMEText(contents, _charset='utf-8')\r\n",
    "    msg.attach(text)\r\n",
    "\r\n",
    "    if attachment:\r\n",
    "        from email.mime.base import MIMEBase\r\n",
    "        from email import encoders\r\n",
    "\r\n",
    "        file_data = MIMEBase('application', 'octect-stream')\r\n",
    "        file_data.set_payload(open(attachment, 'rb').read())\r\n",
    "        encoders.encode_base64(file_data)\r\n",
    "\r\n",
    "        import os\r\n",
    "        filename = os.path.basename(attachment)\r\n",
    "        file_data.add_header('Content-Disposition', 'attachment; filename=\"'+filename+'\"')\r\n",
    "        msg.attach(file_data)\r\n",
    "    \r\n",
    "    smtp = smtplib.SMTP_SSL(SMTP_SERVER, SMTP_PORT)\r\n",
    "    smtp.login(SMTP_USER, SMTP_PASSWORD)\r\n",
    "    smtp.sendmail(SMTP_USER, addr, msg.as_string())\r\n",
    "    smtp.close()"
   ],
   "outputs": [],
   "metadata": {}
  },
  {
   "cell_type": "code",
   "execution_count": null,
   "source": [],
   "outputs": [],
   "metadata": {}
  },
  {
   "cell_type": "markdown",
   "source": [
    "#### 프로젝트 폴더에 있는 email_list.xlsx 파일에 이메일 받을 사람들의 정보를 입력하세요."
   ],
   "metadata": {}
  },
  {
   "cell_type": "code",
   "execution_count": 28,
   "source": [
    "from openpyxl import Workbook\r\n",
    "\r\n",
    "wb = Workbook()\r\n",
    "#ws = wb.create_sheet('emails')\r\n",
    "ws = wb.active\r\n",
    "\r\n",
    "ws.append(['이름','이메일'])\r\n",
    "\r\n",
    "while(1):\r\n",
    "    \r\n",
    "    name = input(\"받는 사람 이름을 입력하세요(그만 추가 하려면 `q` 입력) : \")\r\n",
    "    \r\n",
    "    if(name == 'q' or name == 'Q'):\r\n",
    "        wb.save('email_list.xlsx')\r\n",
    "        break\r\n",
    "        \r\n",
    "    email = input(\"이메일을 입력하세요 : \")\r\n",
    "    \r\n",
    "    ws.append([name, email])\r\n",
    "    "
   ],
   "outputs": [
    {
     "output_type": "stream",
     "name": "stdout",
     "text": [
      "받는 사람 이름을 입력하세요(종료하려면 `q` 입력) : 박영찬\n",
      "이메일을 입력하세요 : yc12312@kakao.com\n",
      "받는 사람 이름을 입력하세요(종료하려면 `q` 입력) : q\n"
     ]
    }
   ],
   "metadata": {}
  },
  {
   "cell_type": "code",
   "execution_count": null,
   "source": [],
   "outputs": [],
   "metadata": {}
  },
  {
   "cell_type": "markdown",
   "source": [
    "#### 엑셀 파일의 정보를 읽어올 수 있는 모듈을 import하세요."
   ],
   "metadata": {}
  },
  {
   "cell_type": "code",
   "execution_count": 19,
   "source": [
    "from openpyxl import load_workbook"
   ],
   "outputs": [],
   "metadata": {}
  },
  {
   "cell_type": "code",
   "execution_count": null,
   "source": [],
   "outputs": [],
   "metadata": {}
  },
  {
   "cell_type": "markdown",
   "source": [
    "#### email_list.xlsx 파일을 읽어와 해당 사람들에게 수집한 뉴스 정보 엑셀 파일을 send_mail 함수를 이용해 전송하세요."
   ],
   "metadata": {}
  },
  {
   "cell_type": "code",
   "execution_count": 31,
   "source": [
    "wb = load_workbook('email_list.xlsx')\r\n",
    "data = wb.active\r\n",
    "\r\n",
    "subject = '%s 관련 뉴스 10개' %(keyword, )\r\n",
    "content = '%s 관련 뉴스 10개를 엑셀로 정리해 보냅니다' %(keyword, )\r\n",
    "\r\n",
    "for row in data.iter_rows(min_row=2): #1번째줄 제외\r\n",
    "    name, email = row\r\n",
    "    send_mail(name.value, email.value, subject, content, file_name)\r\n",
    "\r\n",
    "#구글에서 메일 전용 앱 비밀번호를 설정해야한다\r\n",
    "#https://support.google.com/accounts/answer/185833?p=InvalidSecondFactor&visit_id=637637741736003907-2351944220&rd=1\r\n"
   ],
   "outputs": [
    {
     "output_type": "stream",
     "name": "stdout",
     "text": [
      "working!\n"
     ]
    },
    {
     "output_type": "error",
     "ename": "SMTPAuthenticationError",
     "evalue": "(534, b'5.7.9 Application-specific password required. Learn more at\\n5.7.9  https://support.google.com/mail/?p=InvalidSecondFactor ns18sm5908234pjb.31 - gsmtp')",
     "traceback": [
      "\u001b[1;31m---------------------------------------------------------------------------\u001b[0m",
      "\u001b[1;31mSMTPAuthenticationError\u001b[0m                   Traceback (most recent call last)",
      "\u001b[1;32mC:\\Users\\TROLLE~1\\AppData\\Local\\Temp/ipykernel_3508/530740200.py\u001b[0m in \u001b[0;36m<module>\u001b[1;34m\u001b[0m\n\u001b[0;32m     11\u001b[0m     \u001b[0mname\u001b[0m\u001b[1;33m,\u001b[0m \u001b[0memail\u001b[0m \u001b[1;33m=\u001b[0m \u001b[0mrow\u001b[0m\u001b[1;33m\u001b[0m\u001b[1;33m\u001b[0m\u001b[0m\n\u001b[0;32m     12\u001b[0m     \u001b[1;31m#print(name.value, email.value,subject,content,file_name)\u001b[0m\u001b[1;33m\u001b[0m\u001b[1;33m\u001b[0m\u001b[1;33m\u001b[0m\u001b[0m\n\u001b[1;32m---> 13\u001b[1;33m     \u001b[0msend_mail\u001b[0m\u001b[1;33m(\u001b[0m\u001b[0mname\u001b[0m\u001b[1;33m.\u001b[0m\u001b[0mvalue\u001b[0m\u001b[1;33m,\u001b[0m \u001b[0memail\u001b[0m\u001b[1;33m.\u001b[0m\u001b[0mvalue\u001b[0m\u001b[1;33m,\u001b[0m \u001b[0msubject\u001b[0m\u001b[1;33m,\u001b[0m \u001b[0mcontent\u001b[0m\u001b[1;33m,\u001b[0m \u001b[0mfile_name\u001b[0m\u001b[1;33m)\u001b[0m\u001b[1;33m\u001b[0m\u001b[1;33m\u001b[0m\u001b[0m\n\u001b[0m",
      "\u001b[1;32mC:\\Users\\TROLLE~1\\AppData\\Local\\Temp/ipykernel_3508/934720614.py\u001b[0m in \u001b[0;36msend_mail\u001b[1;34m(name, addr, subject, contents, attachment)\u001b[0m\n\u001b[0;32m     30\u001b[0m \u001b[1;33m\u001b[0m\u001b[0m\n\u001b[0;32m     31\u001b[0m     \u001b[0msmtp\u001b[0m \u001b[1;33m=\u001b[0m \u001b[0msmtplib\u001b[0m\u001b[1;33m.\u001b[0m\u001b[0mSMTP_SSL\u001b[0m\u001b[1;33m(\u001b[0m\u001b[0mSMTP_SERVER\u001b[0m\u001b[1;33m,\u001b[0m \u001b[0mSMTP_PORT\u001b[0m\u001b[1;33m)\u001b[0m\u001b[1;33m\u001b[0m\u001b[1;33m\u001b[0m\u001b[0m\n\u001b[1;32m---> 32\u001b[1;33m     \u001b[0msmtp\u001b[0m\u001b[1;33m.\u001b[0m\u001b[0mlogin\u001b[0m\u001b[1;33m(\u001b[0m\u001b[0mSMTP_USER\u001b[0m\u001b[1;33m,\u001b[0m \u001b[0mSMTP_PASSWORD\u001b[0m\u001b[1;33m)\u001b[0m\u001b[1;33m\u001b[0m\u001b[1;33m\u001b[0m\u001b[0m\n\u001b[0m\u001b[0;32m     33\u001b[0m     \u001b[0msmtp\u001b[0m\u001b[1;33m.\u001b[0m\u001b[0msendmail\u001b[0m\u001b[1;33m(\u001b[0m\u001b[0mSMTP_USER\u001b[0m\u001b[1;33m,\u001b[0m \u001b[0maddr\u001b[0m\u001b[1;33m,\u001b[0m \u001b[0mmsg\u001b[0m\u001b[1;33m.\u001b[0m\u001b[0mas_string\u001b[0m\u001b[1;33m(\u001b[0m\u001b[1;33m)\u001b[0m\u001b[1;33m)\u001b[0m\u001b[1;33m\u001b[0m\u001b[1;33m\u001b[0m\u001b[0m\n\u001b[0;32m     34\u001b[0m     \u001b[0msmtp\u001b[0m\u001b[1;33m.\u001b[0m\u001b[0mclose\u001b[0m\u001b[1;33m(\u001b[0m\u001b[1;33m)\u001b[0m\u001b[1;33m\u001b[0m\u001b[1;33m\u001b[0m\u001b[0m\n",
      "\u001b[1;32mc:\\python38\\lib\\smtplib.py\u001b[0m in \u001b[0;36mlogin\u001b[1;34m(self, user, password, initial_response_ok)\u001b[0m\n\u001b[0;32m    732\u001b[0m \u001b[1;33m\u001b[0m\u001b[0m\n\u001b[0;32m    733\u001b[0m         \u001b[1;31m# We could not login successfully.  Return result of last attempt.\u001b[0m\u001b[1;33m\u001b[0m\u001b[1;33m\u001b[0m\u001b[1;33m\u001b[0m\u001b[0m\n\u001b[1;32m--> 734\u001b[1;33m         \u001b[1;32mraise\u001b[0m \u001b[0mlast_exception\u001b[0m\u001b[1;33m\u001b[0m\u001b[1;33m\u001b[0m\u001b[0m\n\u001b[0m\u001b[0;32m    735\u001b[0m \u001b[1;33m\u001b[0m\u001b[0m\n\u001b[0;32m    736\u001b[0m     \u001b[1;32mdef\u001b[0m \u001b[0mstarttls\u001b[0m\u001b[1;33m(\u001b[0m\u001b[0mself\u001b[0m\u001b[1;33m,\u001b[0m \u001b[0mkeyfile\u001b[0m\u001b[1;33m=\u001b[0m\u001b[1;32mNone\u001b[0m\u001b[1;33m,\u001b[0m \u001b[0mcertfile\u001b[0m\u001b[1;33m=\u001b[0m\u001b[1;32mNone\u001b[0m\u001b[1;33m,\u001b[0m \u001b[0mcontext\u001b[0m\u001b[1;33m=\u001b[0m\u001b[1;32mNone\u001b[0m\u001b[1;33m)\u001b[0m\u001b[1;33m:\u001b[0m\u001b[1;33m\u001b[0m\u001b[1;33m\u001b[0m\u001b[0m\n",
      "\u001b[1;32mc:\\python38\\lib\\smtplib.py\u001b[0m in \u001b[0;36mlogin\u001b[1;34m(self, user, password, initial_response_ok)\u001b[0m\n\u001b[0;32m    721\u001b[0m             \u001b[0mmethod_name\u001b[0m \u001b[1;33m=\u001b[0m \u001b[1;34m'auth_'\u001b[0m \u001b[1;33m+\u001b[0m \u001b[0mauthmethod\u001b[0m\u001b[1;33m.\u001b[0m\u001b[0mlower\u001b[0m\u001b[1;33m(\u001b[0m\u001b[1;33m)\u001b[0m\u001b[1;33m.\u001b[0m\u001b[0mreplace\u001b[0m\u001b[1;33m(\u001b[0m\u001b[1;34m'-'\u001b[0m\u001b[1;33m,\u001b[0m \u001b[1;34m'_'\u001b[0m\u001b[1;33m)\u001b[0m\u001b[1;33m\u001b[0m\u001b[1;33m\u001b[0m\u001b[0m\n\u001b[0;32m    722\u001b[0m             \u001b[1;32mtry\u001b[0m\u001b[1;33m:\u001b[0m\u001b[1;33m\u001b[0m\u001b[1;33m\u001b[0m\u001b[0m\n\u001b[1;32m--> 723\u001b[1;33m                 (code, resp) = self.auth(\n\u001b[0m\u001b[0;32m    724\u001b[0m                     \u001b[0mauthmethod\u001b[0m\u001b[1;33m,\u001b[0m \u001b[0mgetattr\u001b[0m\u001b[1;33m(\u001b[0m\u001b[0mself\u001b[0m\u001b[1;33m,\u001b[0m \u001b[0mmethod_name\u001b[0m\u001b[1;33m)\u001b[0m\u001b[1;33m,\u001b[0m\u001b[1;33m\u001b[0m\u001b[1;33m\u001b[0m\u001b[0m\n\u001b[0;32m    725\u001b[0m                     initial_response_ok=initial_response_ok)\n",
      "\u001b[1;32mc:\\python38\\lib\\smtplib.py\u001b[0m in \u001b[0;36mauth\u001b[1;34m(self, mechanism, authobject, initial_response_ok)\u001b[0m\n\u001b[0;32m    644\u001b[0m         \u001b[1;32mif\u001b[0m \u001b[0mcode\u001b[0m \u001b[1;32min\u001b[0m \u001b[1;33m(\u001b[0m\u001b[1;36m235\u001b[0m\u001b[1;33m,\u001b[0m \u001b[1;36m503\u001b[0m\u001b[1;33m)\u001b[0m\u001b[1;33m:\u001b[0m\u001b[1;33m\u001b[0m\u001b[1;33m\u001b[0m\u001b[0m\n\u001b[0;32m    645\u001b[0m             \u001b[1;32mreturn\u001b[0m \u001b[1;33m(\u001b[0m\u001b[0mcode\u001b[0m\u001b[1;33m,\u001b[0m \u001b[0mresp\u001b[0m\u001b[1;33m)\u001b[0m\u001b[1;33m\u001b[0m\u001b[1;33m\u001b[0m\u001b[0m\n\u001b[1;32m--> 646\u001b[1;33m         \u001b[1;32mraise\u001b[0m \u001b[0mSMTPAuthenticationError\u001b[0m\u001b[1;33m(\u001b[0m\u001b[0mcode\u001b[0m\u001b[1;33m,\u001b[0m \u001b[0mresp\u001b[0m\u001b[1;33m)\u001b[0m\u001b[1;33m\u001b[0m\u001b[1;33m\u001b[0m\u001b[0m\n\u001b[0m\u001b[0;32m    647\u001b[0m \u001b[1;33m\u001b[0m\u001b[0m\n\u001b[0;32m    648\u001b[0m     \u001b[1;32mdef\u001b[0m \u001b[0mauth_cram_md5\u001b[0m\u001b[1;33m(\u001b[0m\u001b[0mself\u001b[0m\u001b[1;33m,\u001b[0m \u001b[0mchallenge\u001b[0m\u001b[1;33m=\u001b[0m\u001b[1;32mNone\u001b[0m\u001b[1;33m)\u001b[0m\u001b[1;33m:\u001b[0m\u001b[1;33m\u001b[0m\u001b[1;33m\u001b[0m\u001b[0m\n",
      "\u001b[1;31mSMTPAuthenticationError\u001b[0m: (534, b'5.7.9 Application-specific password required. Learn more at\\n5.7.9  https://support.google.com/mail/?p=InvalidSecondFactor ns18sm5908234pjb.31 - gsmtp')"
     ]
    }
   ],
   "metadata": {}
  },
  {
   "cell_type": "code",
   "execution_count": null,
   "source": [],
   "outputs": [],
   "metadata": {}
  }
 ],
 "metadata": {
  "kernelspec": {
   "display_name": "Python 3 (ipykernel)",
   "language": "python",
   "name": "python3"
  },
  "language_info": {
   "codemirror_mode": {
    "name": "ipython",
    "version": 3
   },
   "file_extension": ".py",
   "mimetype": "text/x-python",
   "name": "python",
   "nbconvert_exporter": "python",
   "pygments_lexer": "ipython3",
   "version": "3.8.5"
  }
 },
 "nbformat": 4,
 "nbformat_minor": 2
}